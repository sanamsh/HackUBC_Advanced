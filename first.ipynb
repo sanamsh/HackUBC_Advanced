{
 "cells": [
  {
   "cell_type": "markdown",
   "metadata": {},
   "source": [
    "# Getting Started (Sanam)\n",
    "\n",
    "This first workbook will introduce several new concepts:\n",
    " * Cloning code from github\n",
    " * Jupyter notebooks\n",
    " * Working with syzygy\n",
    " * Accessing the Canvas API\n",
    " "
   ]
  },
  {
   "cell_type": "markdown",
   "metadata": {},
   "source": [
    "## Working with Jupyter notebooks\n",
    "There's a great tutorial made available along with syzygy: https://intro.syzygy.ca\n",
    "\n",
    "If you've never used Jupyter notebooks before, that's a great place to get started.\n",
    "\n",
    "There are many shortcuts to make interacting with a notebook easier, for example you can run just the current cell (rather than re-running the entire notebook) with `shift + enter`"
   ]
  },
  {
   "cell_type": "markdown",
   "metadata": {},
   "source": [
    "## Working with the Canvas API\n",
    "\n",
    "This notebook is used to export data from Canvas. The data we export will be saved in `json` format.\n",
    "\n",
    "It contains examples using the `canvasapi` python package (thanks to UCF!). Most (but not all) API endpoints from Canvas are available in the `canvasapi` package.\n",
    "\n",
    "Useful links about the Canvas API:\n",
    " * https://github.com/ucfopen/canvasapi\n",
    " * https://canvas.instructure.com/doc/api/"
   ]
  },
  {
   "cell_type": "code",
   "execution_count": null,
   "metadata": {},
   "outputs": [],
   "source": [
    "from canvasapi import Canvas\n",
    "import json"
   ]
  },
  {
   "cell_type": "code",
   "execution_count": null,
   "metadata": {},
   "outputs": [],
   "source": [
    "#setup some global variables for the script\n",
    "\n",
    "# load API_KEY from a file\n",
    "# we doing this so that we can share this code without sharing our secret keys\n",
    "API_KEY=open(\".canvas_api_key\").readline().rstrip('\\n')\n",
    "API_URL = \"https://canvas.ubc.com\"\n",
    "\n",
    "COURSE_NUM = 30739 # HackUBC course ID"
   ]
  },
  {
   "cell_type": "code",
   "execution_count": null,
   "metadata": {},
   "outputs": [],
   "source": [
    "# Here we create the canvas python object, we use that to interact with the Canvas API\n",
    "canvas = Canvas(API_URL, API_KEY)\n",
    "\n",
    "# this should print a json representation of your Canvas user information\n",
    "print(json.dumps(json.loads(canvas.get_user('self').to_json()),sort_keys=True, indent=4))"
   ]
  },
  {
   "cell_type": "markdown",
   "metadata": {},
   "source": [
    "## A note about Canvas discussions\n",
    "the API divides discussion content/posts into three different types:\n",
    "\n",
    "* `discussion topics`: The individual discussion forums\n",
    "* `discussion entries`: The top level entries in the discussion. Each is an original response to the discussion topic.\n",
    "* `discussion replies`: The response to each entry. In Canvas, these are displayed indented and nested under the corresponding discussion entry."
   ]
  },
  {
   "cell_type": "code",
   "execution_count": null,
   "metadata": {},
   "outputs": [],
   "source": [
    "# get all the discussion topics\n",
    "\n",
    "# many methods of the Canvas API load data lazily (when needed)\n",
    "# to force retreival of all items, we can wrap the request in a list()\n",
    "all_topics = list(canvas.get_course(COURSE_NUM).get_discussion_topics())"
   ]
  },
  {
   "cell_type": "code",
   "execution_count": null,
   "metadata": {},
   "outputs": [],
   "source": [
    "# print all the discussion topic names and their total number of posts\n",
    "for t in all_topics:\n",
    "    print(t.title, t.discussion_subentry_count)\n",
    "    #note, this is the *full* number of posts in the topic\n"
   ]
  },
  {
   "cell_type": "code",
   "execution_count": null,
   "metadata": {},
   "outputs": [],
   "source": [
    "# print all the posts in the largest discussion\n",
    "\n",
    "largest = sorted(all_topics, key=lambda x: x.discussion_subentry_count, reverse=True)[0]\n",
    "\n",
    "print (largest.title, len(list(largest.get_topic_entries())))\n",
    "#note: this is only the *top-level* entries in the discussion, \n",
    "# not all replies to those entries"
   ]
  },
  {
   "cell_type": "code",
   "execution_count": null,
   "metadata": {},
   "outputs": [],
   "source": [
    "# get all the top-level entries\n",
    "# notice that this is different from the number of posts above\n",
    "all_entries = []\n",
    "for t in all_topics:\n",
    "    topic_entries = list(t.get_topic_entries())\n",
    "    all_entries.extend(topic_entries)\n",
    "print(\"total number of top-level entries: \", len(all_entries))"
   ]
  },
  {
   "cell_type": "code",
   "execution_count": null,
   "metadata": {},
   "outputs": [],
   "source": [
    "# get all the replies\n",
    "# again, notice that this is different from the number of posts above\n",
    "all_replies = []\n",
    "for e in all_entries:\n",
    "    entry_replies = list(e.get_replies())\n",
    "    all_replies.extend(entry_replies)\n",
    "print(\"total number of replies: \",len(all_replies))"
   ]
  },
  {
   "cell_type": "code",
   "execution_count": null,
   "metadata": {},
   "outputs": [],
   "source": [
    "# get the number of replies for a each discussion entry\n",
    "for topic in largest.get_topic_entries():\n",
    "  print(topic, len(list(topic.get_replies())))"
   ]
  },
  {
   "cell_type": "code",
   "execution_count": null,
   "metadata": {},
   "outputs": [],
   "source": [
    "# this is an example of how we can 'pretty print' the json representation of an object\n",
    "# in this case, we are printing the details of the largest discussion topic\n",
    "print(json.dumps(json.loads(largest.to_json()),indent=4))"
   ]
  },
  {
   "cell_type": "code",
   "execution_count": null,
   "metadata": {},
   "outputs": [],
   "source": [
    "# here we are saving all the discussion data to .json files\n",
    "# you can open these files from the jupyter hub to examine their contents\n",
    "# or you can interactively explore the python objects from within this notebook\n",
    "with open('all_topics.json', 'w') as f:\n",
    "    json.dump(list(map(lambda x: json.loads(x.to_json()), all_topics)), f)\n",
    "    #json.dump(all_topics, f)\n",
    "\n",
    "with open('all_entries.json', 'w') as f:\n",
    "    json.dump(list(map(lambda x: json.loads(x.to_json()), all_entries)), f)\n",
    "\n",
    "with open('all_replies.json', 'w') as f:\n",
    "    json.dump(list(map(lambda x: json.loads(x.to_json()), all_replies)), f)\n"
   ]
  },
  {
   "cell_type": "markdown",
   "metadata": {},
   "source": [
    "## What next?\n",
    "\n",
    "Create some additional cells below here (or above!) and try to interact with some of the results from the Canvas API.\n",
    "\n",
    "Some things to try:\n",
    " * Extract just your username from the Canvas `get_user` api\n",
    " * Print all the details of a specific discussion topic, entry, or reply\n",
    " * Find all the topics/entires/replies that you made\n",
    " * Find every reply to a specific user (such as yourself)\n",
    " * Look at the documentation and try using a different API endpoint"
   ]
  },
  {
   "cell_type": "code",
   "execution_count": null,
   "metadata": {},
   "outputs": [],
   "source": []
  }
 ],
 "metadata": {
  "kernelspec": {
   "display_name": "Python 3",
   "language": "python",
   "name": "python3"
  },
  "language_info": {
   "codemirror_mode": {
    "name": "ipython",
    "version": 3
   },
   "file_extension": ".py",
   "mimetype": "text/x-python",
   "name": "python",
   "nbconvert_exporter": "python",
   "pygments_lexer": "ipython3",
   "version": "3.7.0"
  }
 },
 "nbformat": 4,
 "nbformat_minor": 2
}
